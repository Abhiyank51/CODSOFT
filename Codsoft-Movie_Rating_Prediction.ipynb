{
 "cells": [
  {
   "cell_type": "code",
   "execution_count": 1,
   "id": "779154dc",
   "metadata": {},
   "outputs": [
    {
     "name": "stderr",
     "output_type": "stream",
     "text": [
      "C:\\Users\\DELL\\AppData\\Roaming\\Python\\Python39\\site-packages\\pandas\\core\\computation\\expressions.py:21: UserWarning: Pandas requires version '2.8.4' or newer of 'numexpr' (version '2.8.3' currently installed).\n",
      "  from pandas.core.computation.check import NUMEXPR_INSTALLED\n",
      "C:\\Users\\DELL\\AppData\\Roaming\\Python\\Python39\\site-packages\\pandas\\core\\arrays\\masked.py:60: UserWarning: Pandas requires version '1.3.6' or newer of 'bottleneck' (version '1.3.5' currently installed).\n",
      "  from pandas.core import (\n",
      "C:\\ProgramData\\Anaconda3\\lib\\site-packages\\scipy\\__init__.py:155: UserWarning: A NumPy version >=1.18.5 and <1.25.0 is required for this version of SciPy (detected version 1.26.4\n",
      "  warnings.warn(f\"A NumPy version >={np_minversion} and <{np_maxversion}\"\n"
     ]
    }
   ],
   "source": [
    "# Import necessary libraries\n",
    "import pandas as pd\n",
    "import numpy as np\n",
    "import matplotlib.pyplot as plt\n",
    "import seaborn as sns\n",
    "from sklearn.model_selection import train_test_split, GridSearchCV\n",
    "from sklearn.preprocessing import StandardScaler\n",
    "from sklearn.svm import SVR\n",
    "from sklearn.neighbors import KNeighborsRegressor\n",
    "from xgboost import XGBRegressor\n",
    "from sklearn.metrics import mean_squared_error, r2_score"
   ]
  },
  {
   "cell_type": "code",
   "execution_count": 2,
   "id": "6cc2da01",
   "metadata": {},
   "outputs": [],
   "source": [
    "# Load the dataset\n",
    "df = pd.read_csv('IMDb_Movies_India.csv', encoding='ISO-8859-1')\n"
   ]
  },
  {
   "cell_type": "code",
   "execution_count": 3,
   "id": "f4169640",
   "metadata": {},
   "outputs": [
    {
     "data": {
      "text/html": [
       "<div>\n",
       "<style scoped>\n",
       "    .dataframe tbody tr th:only-of-type {\n",
       "        vertical-align: middle;\n",
       "    }\n",
       "\n",
       "    .dataframe tbody tr th {\n",
       "        vertical-align: top;\n",
       "    }\n",
       "\n",
       "    .dataframe thead th {\n",
       "        text-align: right;\n",
       "    }\n",
       "</style>\n",
       "<table border=\"1\" class=\"dataframe\">\n",
       "  <thead>\n",
       "    <tr style=\"text-align: right;\">\n",
       "      <th></th>\n",
       "      <th>Name</th>\n",
       "      <th>Year</th>\n",
       "      <th>Duration</th>\n",
       "      <th>Genre</th>\n",
       "      <th>Rating</th>\n",
       "      <th>Votes</th>\n",
       "      <th>Director</th>\n",
       "      <th>Actor 1</th>\n",
       "      <th>Actor 2</th>\n",
       "      <th>Actor 3</th>\n",
       "    </tr>\n",
       "  </thead>\n",
       "  <tbody>\n",
       "    <tr>\n",
       "      <th>15141</th>\n",
       "      <td>Yaan</td>\n",
       "      <td>(2014)</td>\n",
       "      <td>153 min</td>\n",
       "      <td>Action, Thriller</td>\n",
       "      <td>3.5</td>\n",
       "      <td>341</td>\n",
       "      <td>Ravi K. Chandran</td>\n",
       "      <td>Jiiva</td>\n",
       "      <td>Thulasi Nair</td>\n",
       "      <td>Nassar</td>\n",
       "    </tr>\n",
       "    <tr>\n",
       "      <th>6133</th>\n",
       "      <td>Inspector</td>\n",
       "      <td>(1957)</td>\n",
       "      <td>NaN</td>\n",
       "      <td>Action</td>\n",
       "      <td>5.6</td>\n",
       "      <td>15</td>\n",
       "      <td>Shakti Samanta</td>\n",
       "      <td>Ashok Kumar</td>\n",
       "      <td>Geeta Bali</td>\n",
       "      <td>Mehmood</td>\n",
       "    </tr>\n",
       "    <tr>\n",
       "      <th>11330</th>\n",
       "      <td>Q</td>\n",
       "      <td>(2017)</td>\n",
       "      <td>96 min</td>\n",
       "      <td>Drama, Thriller</td>\n",
       "      <td>6.0</td>\n",
       "      <td>29</td>\n",
       "      <td>Sanjeev Gupta</td>\n",
       "      <td>Heeba Shah</td>\n",
       "      <td>Ashwin Shukla</td>\n",
       "      <td>NaN</td>\n",
       "    </tr>\n",
       "    <tr>\n",
       "      <th>8341</th>\n",
       "      <td>Love Scope</td>\n",
       "      <td>(2020)</td>\n",
       "      <td>NaN</td>\n",
       "      <td>Comedy, Mystery, Romance</td>\n",
       "      <td>NaN</td>\n",
       "      <td>NaN</td>\n",
       "      <td>Sunny Kumar</td>\n",
       "      <td>Shakti Kapoor</td>\n",
       "      <td>Smita Jaykar</td>\n",
       "      <td>Swati Kapoor</td>\n",
       "    </tr>\n",
       "    <tr>\n",
       "      <th>7066</th>\n",
       "      <td>Kachche Rishtey</td>\n",
       "      <td>(2000)</td>\n",
       "      <td>NaN</td>\n",
       "      <td>Thriller</td>\n",
       "      <td>NaN</td>\n",
       "      <td>NaN</td>\n",
       "      <td>Abid</td>\n",
       "      <td>Dilip Advani</td>\n",
       "      <td>Sushil Chowdhary</td>\n",
       "      <td>Chetana Gupta</td>\n",
       "    </tr>\n",
       "  </tbody>\n",
       "</table>\n",
       "</div>"
      ],
      "text/plain": [
       "                  Name    Year Duration                     Genre  Rating  \\\n",
       "15141             Yaan  (2014)  153 min          Action, Thriller     3.5   \n",
       "6133         Inspector  (1957)      NaN                    Action     5.6   \n",
       "11330                Q  (2017)   96 min           Drama, Thriller     6.0   \n",
       "8341        Love Scope  (2020)      NaN  Comedy, Mystery, Romance     NaN   \n",
       "7066   Kachche Rishtey  (2000)      NaN                  Thriller     NaN   \n",
       "\n",
       "      Votes          Director        Actor 1           Actor 2        Actor 3  \n",
       "15141   341  Ravi K. Chandran          Jiiva      Thulasi Nair         Nassar  \n",
       "6133     15    Shakti Samanta    Ashok Kumar        Geeta Bali        Mehmood  \n",
       "11330    29     Sanjeev Gupta     Heeba Shah     Ashwin Shukla            NaN  \n",
       "8341    NaN       Sunny Kumar  Shakti Kapoor      Smita Jaykar   Swati Kapoor  \n",
       "7066    NaN              Abid   Dilip Advani  Sushil Chowdhary  Chetana Gupta  "
      ]
     },
     "execution_count": 3,
     "metadata": {},
     "output_type": "execute_result"
    }
   ],
   "source": [
    "df.sample(5)"
   ]
  },
  {
   "cell_type": "code",
   "execution_count": 4,
   "id": "453e0e96",
   "metadata": {},
   "outputs": [
    {
     "data": {
      "text/html": [
       "<div>\n",
       "<style scoped>\n",
       "    .dataframe tbody tr th:only-of-type {\n",
       "        vertical-align: middle;\n",
       "    }\n",
       "\n",
       "    .dataframe tbody tr th {\n",
       "        vertical-align: top;\n",
       "    }\n",
       "\n",
       "    .dataframe thead th {\n",
       "        text-align: right;\n",
       "    }\n",
       "</style>\n",
       "<table border=\"1\" class=\"dataframe\">\n",
       "  <thead>\n",
       "    <tr style=\"text-align: right;\">\n",
       "      <th></th>\n",
       "      <th>Rating</th>\n",
       "    </tr>\n",
       "  </thead>\n",
       "  <tbody>\n",
       "    <tr>\n",
       "      <th>count</th>\n",
       "      <td>7919.000000</td>\n",
       "    </tr>\n",
       "    <tr>\n",
       "      <th>mean</th>\n",
       "      <td>5.841621</td>\n",
       "    </tr>\n",
       "    <tr>\n",
       "      <th>std</th>\n",
       "      <td>1.381777</td>\n",
       "    </tr>\n",
       "    <tr>\n",
       "      <th>min</th>\n",
       "      <td>1.100000</td>\n",
       "    </tr>\n",
       "    <tr>\n",
       "      <th>25%</th>\n",
       "      <td>4.900000</td>\n",
       "    </tr>\n",
       "    <tr>\n",
       "      <th>50%</th>\n",
       "      <td>6.000000</td>\n",
       "    </tr>\n",
       "    <tr>\n",
       "      <th>75%</th>\n",
       "      <td>6.800000</td>\n",
       "    </tr>\n",
       "    <tr>\n",
       "      <th>max</th>\n",
       "      <td>10.000000</td>\n",
       "    </tr>\n",
       "  </tbody>\n",
       "</table>\n",
       "</div>"
      ],
      "text/plain": [
       "            Rating\n",
       "count  7919.000000\n",
       "mean      5.841621\n",
       "std       1.381777\n",
       "min       1.100000\n",
       "25%       4.900000\n",
       "50%       6.000000\n",
       "75%       6.800000\n",
       "max      10.000000"
      ]
     },
     "execution_count": 4,
     "metadata": {},
     "output_type": "execute_result"
    }
   ],
   "source": [
    "df.describe()"
   ]
  },
  {
   "cell_type": "code",
   "execution_count": 5,
   "id": "1c9b3950",
   "metadata": {},
   "outputs": [
    {
     "name": "stdout",
     "output_type": "stream",
     "text": [
      "Name           0\n",
      "Year         528\n",
      "Duration    8269\n",
      "Genre       1877\n",
      "Rating      7590\n",
      "Votes       7589\n",
      "Director     525\n",
      "Actor 1     1617\n",
      "Actor 2     2384\n",
      "Actor 3     3144\n",
      "dtype: int64\n"
     ]
    }
   ],
   "source": [
    "# Check for missing values\n",
    "print(df.isnull().sum())"
   ]
  },
  {
   "cell_type": "code",
   "execution_count": 6,
   "id": "7e8b98e0",
   "metadata": {},
   "outputs": [
    {
     "data": {
      "application/javascript": [
       "\n",
       "        if (window._pyforest_update_imports_cell) { window._pyforest_update_imports_cell('from sklearn.impute import SimpleImputer'); }\n",
       "    "
      ],
      "text/plain": [
       "<IPython.core.display.Javascript object>"
      ]
     },
     "metadata": {},
     "output_type": "display_data"
    },
    {
     "data": {
      "application/javascript": [
       "\n",
       "        if (window._pyforest_update_imports_cell) { window._pyforest_update_imports_cell('from sklearn.impute import SimpleImputer'); }\n",
       "    "
      ],
      "text/plain": [
       "<IPython.core.display.Javascript object>"
      ]
     },
     "metadata": {},
     "output_type": "display_data"
    }
   ],
   "source": [
    "# Fill missing values\n",
    "# Impute numerical columns with mean\n",
    "numerical_features = df.select_dtypes(include=['float64', 'int64']).columns\n",
    "imputer_num = SimpleImputer(strategy='mean')\n",
    "df[numerical_features] = imputer_num.fit_transform(df[numerical_features])\n",
    "\n",
    "\n",
    "# Impute categorical columns with most frequent value\n",
    "categorical_features = df.select_dtypes(include=['object']).columns\n",
    "imputer_cat = SimpleImputer(strategy='most_frequent')\n",
    "df[categorical_features] = imputer_cat.fit_transform(df[categorical_features])"
   ]
  },
  {
   "cell_type": "code",
   "execution_count": 7,
   "id": "dc5a5b91",
   "metadata": {},
   "outputs": [
    {
     "name": "stdout",
     "output_type": "stream",
     "text": [
      "Name        0\n",
      "Year        0\n",
      "Duration    0\n",
      "Genre       0\n",
      "Rating      0\n",
      "Votes       0\n",
      "Director    0\n",
      "Actor 1     0\n",
      "Actor 2     0\n",
      "Actor 3     0\n",
      "dtype: int64\n"
     ]
    }
   ],
   "source": [
    "print(df.isnull().sum())"
   ]
  },
  {
   "cell_type": "code",
   "execution_count": 8,
   "id": "566b1dcd",
   "metadata": {},
   "outputs": [],
   "source": [
    "# Assuming 'rating' is the target variable and other columns are features\n",
    "X = df.drop('Rating', axis=1)\n",
    "y = df['Rating']"
   ]
  },
  {
   "cell_type": "code",
   "execution_count": 9,
   "id": "9d7302dd",
   "metadata": {},
   "outputs": [],
   "source": [
    "# Convert categorical features to dummy variables\n",
    "X = pd.get_dummies(X, drop_first=True)"
   ]
  },
  {
   "cell_type": "code",
   "execution_count": 10,
   "id": "2da2e550",
   "metadata": {},
   "outputs": [],
   "source": [
    "scaler = StandardScaler()\n",
    "X_scaled = scaler.fit_transform(X)"
   ]
  },
  {
   "cell_type": "code",
   "execution_count": 11,
   "id": "0678ad0c",
   "metadata": {},
   "outputs": [],
   "source": [
    "X_train, X_test, y_train, y_test = train_test_split(X_scaled, y, test_size=0.2, random_state=42)\n"
   ]
  },
  {
   "cell_type": "code",
   "execution_count": null,
   "id": "6baa8619",
   "metadata": {},
   "outputs": [],
   "source": [
    "# K-Nearest Neighbors Regression\n",
    "knn = KNeighborsRegressor()\n",
    "param_grid_knn = {'n_neighbors': [3, 5, 7, 9]}\n",
    "grid_knn = GridSearchCV(knn, param_grid_knn, cv=5, scoring='r2')\n",
    "grid_knn.fit(X_train, y_train)\n",
    "best_knn = grid_knn.best_estimator_\n",
    "y_pred_knn = best_knn.predict(X_test)\n",
    "print('K-Nearest Neighbors Regression:')\n",
    "print(f'Best Params: {grid_knn.best_params_}')\n",
    "print(f'RMSE: {np.sqrt(mean_squared_error(y_test, y_pred_knn))}')\n",
    "print(f'R2 Score: {r2_score(y_test, y_pred_knn)}')"
   ]
  },
  {
   "cell_type": "code",
   "execution_count": null,
   "id": "55a90c71",
   "metadata": {},
   "outputs": [],
   "source": [
    "# XGBoost Regression\n",
    "xgb = XGBRegressor()\n",
    "param_grid_xgb = {\n",
    "    'n_estimators': [100, 200],\n",
    "    'learning_rate': [0.01, 0.1, 0.2],\n",
    "    'max_depth': [3, 5, 7]\n",
    "}\n",
    "grid_xgb = GridSearchCV(xgb, param_grid_xgb, cv=5, scoring='r2')\n",
    "grid_xgb.fit(X_train, y_train)\n",
    "best_xgb = grid_xgb.best_estimator_\n",
    "y_pred_xgb = best_xgb.predict(X_test)\n",
    "print('XGBoost Regression:')\n",
    "print(f'Best Params: {grid_xgb.best_params_}')\n",
    "print(f'RMSE: {np.sqrt(mean_squared_error(y_test, y_pred_xgb))}')\n",
    "print(f'R2 Score: {r2_score(y_test, y_pred_xgb)}')"
   ]
  },
  {
   "cell_type": "code",
   "execution_count": null,
   "id": "23840b9d",
   "metadata": {},
   "outputs": [],
   "source": [
    "# K-Nearest Neighbors plot\n",
    "plt.subplot(1, 3, 2)\n",
    "plt.scatter(y_test, y_pred_knn, alpha=0.3)\n",
    "plt.plot([y.min(), y.max()], [y.min(), y.max()], 'r--')\n",
    "plt.xlabel('Actual')\n",
    "plt.ylabel('Predicted')\n",
    "plt.title('K-Nearest Neighbors')"
   ]
  },
  {
   "cell_type": "code",
   "execution_count": null,
   "id": "1dae2c6c",
   "metadata": {},
   "outputs": [],
   "source": [
    "# XGBoost plot\n",
    "plt.subplot(1, 3, 3)\n",
    "plt.scatter(y_test, y_pred_xgb, alpha=0.3)\n",
    "plt.plot([y.min(), y.max()], [y.min(), y.max()], 'r--')\n",
    "plt.xlabel('Actual')\n",
    "plt.ylabel('Predicted')\n",
    "plt.title('XGBoost')\n",
    "\n",
    "plt.tight_layout()\n",
    "plt.show()\n"
   ]
  },
  {
   "cell_type": "code",
   "execution_count": null,
   "id": "812a583d",
   "metadata": {},
   "outputs": [],
   "source": [
    "# Predicting new data\n",
    "# Creating a new sample input (replace with actual new data)\n",
    "new_data = pd.DataFrame({\n",
    "    'Name': ['New Movie'],\n",
    "    'Year': [2024],\n",
    "    'Duration': [120],\n",
    "    'Genre': ['Action'],\n",
    "    'Votes': [5000],\n",
    "    'Director': ['John Doe'],\n",
    "    'Actor 1': ['Actor A'],\n",
    "    'Actor 2': ['Actor B'],\n",
    "    'Actor 3': ['Actor C']\n",
    "})\n",
    "\n",
    "# Handling missing values in new data\n",
    "new_data[numerical_features] = imputer_num.transform(new_data[numerical_features])\n",
    "new_data[categorical_features] = imputer_cat.transform(new_data[categorical_features])\n",
    "\n",
    "# Convert categorical features to dummy variables\n",
    "new_data = pd.get_dummies(new_data, drop_first=True)\n",
    "\n",
    "# Align the new data with the training data to ensure all columns are present\n",
    "new_data = new_data.reindex(columns=X.columns, fill_value=0)\n",
    "\n",
    "# Scaling the new data\n",
    "new_data_scaled = scaler.transform(new_data)\n",
    "\n",
    "# Making predictions\n",
    "new_pred_svr = best_svr.predict(new_data_scaled)\n",
    "new_pred_knn = best_knn.predict(new_data_scaled)\n",
    "new_pred_xgb = best_xgb.predict(new_data_scaled)\n",
    "\n",
    "# Print predictions\n",
    "print('New Data Predictions:')\n",
    "print(f'SVR Prediction: {new_pred_svr[0]}')\n",
    "print(f'KNN Prediction: {new_pred_knn[0]}')\n",
    "print(f'XGBoost Prediction: {new_pred_xgb[0]}')"
   ]
  }
 ],
 "metadata": {
  "kernelspec": {
   "display_name": "Python 3 (ipykernel)",
   "language": "python",
   "name": "python3"
  },
  "language_info": {
   "codemirror_mode": {
    "name": "ipython",
    "version": 3
   },
   "file_extension": ".py",
   "mimetype": "text/x-python",
   "name": "python",
   "nbconvert_exporter": "python",
   "pygments_lexer": "ipython3",
   "version": "3.9.13"
  }
 },
 "nbformat": 4,
 "nbformat_minor": 5
}
